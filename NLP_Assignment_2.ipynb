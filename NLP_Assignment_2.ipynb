{
  "nbformat": 4,
  "nbformat_minor": 0,
  "metadata": {
    "colab": {
      "provenance": [],
      "authorship_tag": "ABX9TyOL6zlXj6tOb6Tr0khs+dpo",
      "include_colab_link": true
    },
    "kernelspec": {
      "name": "python3",
      "display_name": "Python 3"
    },
    "language_info": {
      "name": "python"
    }
  },
  "cells": [
    {
      "cell_type": "markdown",
      "metadata": {
        "id": "view-in-github",
        "colab_type": "text"
      },
      "source": [
        "<a href=\"https://colab.research.google.com/github/Maheshkumar145/NLP_Assignment/blob/main/NLP_Assignment_2.ipynb\" target=\"_parent\"><img src=\"https://colab.research.google.com/assets/colab-badge.svg\" alt=\"Open In Colab\"/></a>"
      ]
    },
    {
      "cell_type": "markdown",
      "source": [
        "**1. What are Corpora?**\n",
        "\n",
        "**Ans:** Corpora refer to a collection of text or speech data that is systematically organized and stored for linguistic analysis. These collections can include texts from various sources, such as books, newspapers, websites, and more.\n",
        "\n",
        "\n",
        "\n",
        "\n",
        "\n",
        "\n",
        "\n",
        "\n"
      ],
      "metadata": {
        "id": "fVcrzRC0ua7N"
      }
    },
    {
      "cell_type": "markdown",
      "source": [
        "**2. What are Tokens?**\n",
        "\n",
        "**Ans:** Tokens are the individual units of a corpus, which could be words, punctuation marks, or other meaningful symbols. The process of breaking up a text into these individual units is called tokenization.\n"
      ],
      "metadata": {
        "id": "Kq9JD5KCv6hG"
      }
    },
    {
      "cell_type": "markdown",
      "source": [
        "**3. What are Unigrams, Bigrams, Trigrams?**\n",
        "\n",
        "**Ans:** Unigrams, bigrams, and trigrams are different types of n-grams, which are contiguous sequences of n items (words, letters, or other characters) in a text. Unigrams refer to individual words, bigrams refer to pairs of adjacent words, and trigrams refer to groups of three adjacent words."
      ],
      "metadata": {
        "id": "IlO_IWhmvy-k"
      }
    },
    {
      "cell_type": "markdown",
      "source": [
        "**4. How to generate n-grams from text?**\n",
        "\n",
        "**Ans:** To generate n-grams from text, you can use a programming language like Python and specify the value of n. Then, you can tokenize the text into individual units and iterate over it, combining adjacent units to form n-grams."
      ],
      "metadata": {
        "id": "qv_59rnavr28"
      }
    },
    {
      "cell_type": "markdown",
      "source": [
        "**5. Explain Lemmatization?**\n",
        "\n",
        "**Ans:** Lemmatization is the process of reducing a word to its base or dictionary form, known as the lemma. This involves identifying the part of speech of the word and applying morphological rules to derive the lemma."
      ],
      "metadata": {
        "id": "E_Cwo2KEveSz"
      }
    },
    {
      "cell_type": "markdown",
      "source": [
        "**6. Explain Stemming?**\n",
        "\n",
        "**Ans:** Stemming is the process of reducing a word to its base form by removing the suffixes or prefixes. This method is often applied using heuristics rather than strict linguistic rules, and it may not always produce valid words."
      ],
      "metadata": {
        "id": "11zR7USKvXeF"
      }
    },
    {
      "cell_type": "markdown",
      "source": [
        "**7. Explain Part-of-speech (POS) tagging?**\n",
        "\n",
        "**Ans:** Part-of-speech (POS) tagging is the process of labeling each word in a text with its corresponding part of speech, such as noun, verb, adjective, etc. This information can be used to analyze the grammatical structure of a sentence or to disambiguate the meaning of homographs."
      ],
      "metadata": {
        "id": "9Ax_MgDkvRtb"
      }
    },
    {
      "cell_type": "markdown",
      "source": [
        "**8. Explain Chunking or shallow parsing?**\n",
        "\n",
        "**Ans:** Chunking, also known as shallow parsing, is the process of grouping together adjacent words in a text into syntactically related units, such as noun phrases or verb phrases. This can be used to extract meaningful information from a sentence or to analyze its structure."
      ],
      "metadata": {
        "id": "2vsQsyIYvLTL"
      }
    },
    {
      "cell_type": "markdown",
      "source": [
        "**9. Explain Noun Phrase (NP) chunking?**\n",
        "\n",
        "**Ans:** Noun Phrase (NP) chunking is a type of chunking that identifies noun phrases in a sentence. This involves identifying the noun and any words that modify it, such as adjectives, determiners, or prepositional phrases."
      ],
      "metadata": {
        "id": "KwbWQTtgvDLV"
      }
    },
    {
      "cell_type": "markdown",
      "source": [
        "**10. Explain Named Entity Recognition?**\n",
        "\n",
        "**Ans:** Named Entity Recognition (NER) is the process of identifying and classifying named entities in a text, such as people, places, organizations, or dates. This can be used to extract structured information from unstructured text data, such as identifying the names of people mentioned in news articles."
      ],
      "metadata": {
        "id": "ph1NTu-Tu41m"
      }
    }
  ]
}